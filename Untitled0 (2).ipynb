{
  "nbformat": 4,
  "nbformat_minor": 0,
  "metadata": {
    "colab": {
      "provenance": []
    },
    "kernelspec": {
      "name": "python3",
      "display_name": "Python 3"
    },
    "language_info": {
      "name": "python"
    }
  },
  "cells": [
    {
      "cell_type": "code",
      "execution_count": 2,
      "metadata": {
        "colab": {
          "base_uri": "https://localhost:8080/",
          "height": 73
        },
        "id": "BZo4xO4P0v4v",
        "outputId": "0abc36ab-1377-4119-efef-1abc59339186"
      },
      "outputs": [
        {
          "output_type": "display_data",
          "data": {
            "text/plain": [
              "<IPython.core.display.HTML object>"
            ],
            "text/html": [
              "\n",
              "     <input type=\"file\" id=\"files-dd474bd1-9202-48e3-8f6b-378bfea35b60\" name=\"files[]\" multiple disabled\n",
              "        style=\"border:none\" />\n",
              "     <output id=\"result-dd474bd1-9202-48e3-8f6b-378bfea35b60\">\n",
              "      Upload widget is only available when the cell has been executed in the\n",
              "      current browser session. Please rerun this cell to enable.\n",
              "      </output>\n",
              "      <script>// Copyright 2017 Google LLC\n",
              "//\n",
              "// Licensed under the Apache License, Version 2.0 (the \"License\");\n",
              "// you may not use this file except in compliance with the License.\n",
              "// You may obtain a copy of the License at\n",
              "//\n",
              "//      http://www.apache.org/licenses/LICENSE-2.0\n",
              "//\n",
              "// Unless required by applicable law or agreed to in writing, software\n",
              "// distributed under the License is distributed on an \"AS IS\" BASIS,\n",
              "// WITHOUT WARRANTIES OR CONDITIONS OF ANY KIND, either express or implied.\n",
              "// See the License for the specific language governing permissions and\n",
              "// limitations under the License.\n",
              "\n",
              "/**\n",
              " * @fileoverview Helpers for google.colab Python module.\n",
              " */\n",
              "(function(scope) {\n",
              "function span(text, styleAttributes = {}) {\n",
              "  const element = document.createElement('span');\n",
              "  element.textContent = text;\n",
              "  for (const key of Object.keys(styleAttributes)) {\n",
              "    element.style[key] = styleAttributes[key];\n",
              "  }\n",
              "  return element;\n",
              "}\n",
              "\n",
              "// Max number of bytes which will be uploaded at a time.\n",
              "const MAX_PAYLOAD_SIZE = 100 * 1024;\n",
              "\n",
              "function _uploadFiles(inputId, outputId) {\n",
              "  const steps = uploadFilesStep(inputId, outputId);\n",
              "  const outputElement = document.getElementById(outputId);\n",
              "  // Cache steps on the outputElement to make it available for the next call\n",
              "  // to uploadFilesContinue from Python.\n",
              "  outputElement.steps = steps;\n",
              "\n",
              "  return _uploadFilesContinue(outputId);\n",
              "}\n",
              "\n",
              "// This is roughly an async generator (not supported in the browser yet),\n",
              "// where there are multiple asynchronous steps and the Python side is going\n",
              "// to poll for completion of each step.\n",
              "// This uses a Promise to block the python side on completion of each step,\n",
              "// then passes the result of the previous step as the input to the next step.\n",
              "function _uploadFilesContinue(outputId) {\n",
              "  const outputElement = document.getElementById(outputId);\n",
              "  const steps = outputElement.steps;\n",
              "\n",
              "  const next = steps.next(outputElement.lastPromiseValue);\n",
              "  return Promise.resolve(next.value.promise).then((value) => {\n",
              "    // Cache the last promise value to make it available to the next\n",
              "    // step of the generator.\n",
              "    outputElement.lastPromiseValue = value;\n",
              "    return next.value.response;\n",
              "  });\n",
              "}\n",
              "\n",
              "/**\n",
              " * Generator function which is called between each async step of the upload\n",
              " * process.\n",
              " * @param {string} inputId Element ID of the input file picker element.\n",
              " * @param {string} outputId Element ID of the output display.\n",
              " * @return {!Iterable<!Object>} Iterable of next steps.\n",
              " */\n",
              "function* uploadFilesStep(inputId, outputId) {\n",
              "  const inputElement = document.getElementById(inputId);\n",
              "  inputElement.disabled = false;\n",
              "\n",
              "  const outputElement = document.getElementById(outputId);\n",
              "  outputElement.innerHTML = '';\n",
              "\n",
              "  const pickedPromise = new Promise((resolve) => {\n",
              "    inputElement.addEventListener('change', (e) => {\n",
              "      resolve(e.target.files);\n",
              "    });\n",
              "  });\n",
              "\n",
              "  const cancel = document.createElement('button');\n",
              "  inputElement.parentElement.appendChild(cancel);\n",
              "  cancel.textContent = 'Cancel upload';\n",
              "  const cancelPromise = new Promise((resolve) => {\n",
              "    cancel.onclick = () => {\n",
              "      resolve(null);\n",
              "    };\n",
              "  });\n",
              "\n",
              "  // Wait for the user to pick the files.\n",
              "  const files = yield {\n",
              "    promise: Promise.race([pickedPromise, cancelPromise]),\n",
              "    response: {\n",
              "      action: 'starting',\n",
              "    }\n",
              "  };\n",
              "\n",
              "  cancel.remove();\n",
              "\n",
              "  // Disable the input element since further picks are not allowed.\n",
              "  inputElement.disabled = true;\n",
              "\n",
              "  if (!files) {\n",
              "    return {\n",
              "      response: {\n",
              "        action: 'complete',\n",
              "      }\n",
              "    };\n",
              "  }\n",
              "\n",
              "  for (const file of files) {\n",
              "    const li = document.createElement('li');\n",
              "    li.append(span(file.name, {fontWeight: 'bold'}));\n",
              "    li.append(span(\n",
              "        `(${file.type || 'n/a'}) - ${file.size} bytes, ` +\n",
              "        `last modified: ${\n",
              "            file.lastModifiedDate ? file.lastModifiedDate.toLocaleDateString() :\n",
              "                                    'n/a'} - `));\n",
              "    const percent = span('0% done');\n",
              "    li.appendChild(percent);\n",
              "\n",
              "    outputElement.appendChild(li);\n",
              "\n",
              "    const fileDataPromise = new Promise((resolve) => {\n",
              "      const reader = new FileReader();\n",
              "      reader.onload = (e) => {\n",
              "        resolve(e.target.result);\n",
              "      };\n",
              "      reader.readAsArrayBuffer(file);\n",
              "    });\n",
              "    // Wait for the data to be ready.\n",
              "    let fileData = yield {\n",
              "      promise: fileDataPromise,\n",
              "      response: {\n",
              "        action: 'continue',\n",
              "      }\n",
              "    };\n",
              "\n",
              "    // Use a chunked sending to avoid message size limits. See b/62115660.\n",
              "    let position = 0;\n",
              "    do {\n",
              "      const length = Math.min(fileData.byteLength - position, MAX_PAYLOAD_SIZE);\n",
              "      const chunk = new Uint8Array(fileData, position, length);\n",
              "      position += length;\n",
              "\n",
              "      const base64 = btoa(String.fromCharCode.apply(null, chunk));\n",
              "      yield {\n",
              "        response: {\n",
              "          action: 'append',\n",
              "          file: file.name,\n",
              "          data: base64,\n",
              "        },\n",
              "      };\n",
              "\n",
              "      let percentDone = fileData.byteLength === 0 ?\n",
              "          100 :\n",
              "          Math.round((position / fileData.byteLength) * 100);\n",
              "      percent.textContent = `${percentDone}% done`;\n",
              "\n",
              "    } while (position < fileData.byteLength);\n",
              "  }\n",
              "\n",
              "  // All done.\n",
              "  yield {\n",
              "    response: {\n",
              "      action: 'complete',\n",
              "    }\n",
              "  };\n",
              "}\n",
              "\n",
              "scope.google = scope.google || {};\n",
              "scope.google.colab = scope.google.colab || {};\n",
              "scope.google.colab._files = {\n",
              "  _uploadFiles,\n",
              "  _uploadFilesContinue,\n",
              "};\n",
              "})(self);\n",
              "</script> "
            ]
          },
          "metadata": {}
        },
        {
          "output_type": "stream",
          "name": "stdout",
          "text": [
            "Saving stars.csv to stars.csv\n"
          ]
        }
      ],
      "source": [
        "from google.colab import files\n",
        "data_to_load = files.upload()"
      ]
    },
    {
      "cell_type": "code",
      "source": [
        "import pandas as pd\n",
        "import plotly.express as px\n",
        "\n",
        "df = pd.read_csv(\"stars.csv\")\n",
        "\n",
        "print(df.head())\n",
        "\n",
        "fig = px.scatter(df, x=\"Size\", y=\"Light\")\n",
        "fig.show()"
      ],
      "metadata": {
        "colab": {
          "base_uri": "https://localhost:8080/",
          "height": 646
        },
        "id": "Ac2m7hVL2N_W",
        "outputId": "35d99f3a-8ce2-4063-ab1a-8accaca18a2b"
      },
      "execution_count": 6,
      "outputs": [
        {
          "output_type": "stream",
          "name": "stdout",
          "text": [
            "        Size     Light\n",
            "0   5.882677  1.325411\n",
            "1  10.912830  3.183217\n",
            "2   0.281190  0.620011\n",
            "3   7.682623  1.804578\n",
            "4  11.034071  3.390440\n"
          ]
        },
        {
          "output_type": "display_data",
          "data": {
            "text/html": [
              "<html>\n",
              "<head><meta charset=\"utf-8\" /></head>\n",
              "<body>\n",
              "    <div>            <script src=\"https://cdnjs.cloudflare.com/ajax/libs/mathjax/2.7.5/MathJax.js?config=TeX-AMS-MML_SVG\"></script><script type=\"text/javascript\">if (window.MathJax && window.MathJax.Hub && window.MathJax.Hub.Config) {window.MathJax.Hub.Config({SVG: {font: \"STIX-Web\"}});}</script>                <script type=\"text/javascript\">window.PlotlyConfig = {MathJaxConfig: 'local'};</script>\n",
              "        <script src=\"https://cdn.plot.ly/plotly-2.18.2.min.js\"></script>                <div id=\"c799ef52-de9e-41b1-9eb2-301058dd1171\" class=\"plotly-graph-div\" style=\"height:525px; width:100%;\"></div>            <script type=\"text/javascript\">                                    window.PLOTLYENV=window.PLOTLYENV || {};                                    if (document.getElementById(\"c799ef52-de9e-41b1-9eb2-301058dd1171\")) {                    Plotly.newPlot(                        \"c799ef52-de9e-41b1-9eb2-301058dd1171\",                        [{\"hovertemplate\":\"Size=%{x}<br>Light=%{y}<extra></extra>\",\"legendgroup\":\"\",\"marker\":{\"color\":\"#636efa\",\"symbol\":\"circle\"},\"mode\":\"markers\",\"name\":\"\",\"orientation\":\"v\",\"showlegend\":false,\"x\":[5.882677110577015,10.912829741849272,0.2811898677941287,7.682622739447462,11.03407102230486,0.849883472175706,6.473467494519349,12.17993640978502,0.1825332914818903,7.568209564636978,12.69679004883339,0.0277037693541565,5.200217140645759,14.84844866859369,0.259068218351282,6.124343795495355,10.063012145407368,0.5067563935964172,6.282218313984021,14.02518299510856,0.0543411575224216,6.276266544447098,10.311574480169604,0.9995872678923662,5.229165522798715,12.774522894829772,0.992871732918259,6.782031264737263,12.733557378565273,0.140921306192209,5.08774426384934,14.781572826678222,0.2075812520097506,5.774216442745803,14.421880853900774,0.6121779166537155,7.84657615588474,13.65219272535975,0.0882508419808312,7.499278380868503,12.253527547950611,0.7647705203327447,5.926569062178362,10.367916068218126,0.7340023161733802,7.162859924407057,10.435320464765285,0.9670562832895838,5.12900849417646,13.8136036031457,0.0920950464114501,6.338301035074046,14.699618333218892,0.3628604486525623,6.540583934511781,11.930843266496732,0.5963062918387443,5.166940512458978,10.174622334910572,0.5480646136922991,6.045394900082553,12.4171748823078,0.9291753112400964,6.105737820026733,11.255966284587368,0.2858485430879173,7.841890066183929,13.864955265727405,0.2885225525138588,5.566343473368446,10.41513273850386,0.5588856132243603,6.993336061962861,12.334595248703549,0.0847375201386988,5.547233869255975,10.957420390094898,0.5559702608627309,5.454960468318259,14.800598305873008,0.965094549680252,7.361434534296507,14.199984112681136,0.4410432144438012,7.589228018483846,12.990758751964613,0.8883291777747041,6.568474883743718,10.62747539496314,0.3810802253876655,6.36006233965395,14.67512541729659,0.0178265252209468,5.132042704423335,10.362837422953763,0.785859690344634,6.697102949489528,11.074357920150796,0.821132525603258,5.595077199074354,13.707022192731266,0.8193225176169054,6.663370444672838,13.87876793525288,0.9601251760166832,6.588184428768933,11.747750668713298,0.5772128447292312,5.728787248495453,10.096014013689718,0.3715078621196577,6.222687172098961,10.349859960449042,0.372052892724491,5.971020608677074,13.713062283111936,0.9149150879070348,7.082123018471638,13.63453693952001,0.9858906151540988,7.035005498767369,11.115489232906867,0.4208249442863789,7.708367153426053,12.89790103291452,0.4335613250824579,7.249261139901567,12.065157754754289,0.8398466051644851,5.139876560884019,10.18640537718206,0.1677597117592325,7.190862060120328,10.755584771914457,0.8154650305381588,7.98068149786919,11.431025785531313,0.133684700113147,7.28023635065119,12.934223566008214,0.2836017420287031,5.793998525161985,10.06468764971327,0.5581292831153902,7.74230770580416,11.215165059297332,0.0815547658420625,6.879420661840806,12.939503155871826,0.5804063000471639],\"xaxis\":\"x\",\"y\":[1.3254107540216171,3.183217305377668,0.6200107602625141,1.80457756300018,3.3904400900453187,0.8265615706603154,0.9999718666648862,4.376956420140158,0.2437279327676674,1.3105306838396569,2.035843759553087,0.6439061119800805,1.9039285450541823,9.206770859774384,0.7830553635724311,1.1005551034677512,6.842357200049468,0.7437021380932864,0.169347175672162,7.435553591398383,0.1915632941646946,0.3375845167725848,9.41636235330795,0.2918937865245634,0.0249325174609866,3.359901155094552,0.2772194143235812,0.2374195127039764,4.986289309542314,0.4445367915827509,0.3371881980200997,3.0263682290425606,0.4006389459313925,1.018177872258571,5.065613305947155,0.7545439954962615,0.8179473404091615,4.196248191393661,0.310752668396447,1.5656451875075692,5.548710221166132,0.8194963361052416,0.1217567225928377,7.813800204849288,0.3124621674751869,1.529453457424633,6.113515379580372,0.3186917850132911,0.4811628025170529,3.4145102139625614,0.3983860633267231,1.0232754384291431,9.606953687723102,0.6135626145765912,1.0228740148050142,3.9843670539237177,0.9132497840068828,0.3202618248419766,5.462776366817291,0.225541088106224,0.0657975409741331,9.548807332762935,0.6911844935453999,0.0744273470913929,2.7762364186489457,0.8220512577008073,1.542151102015341,4.847192392007801,0.5477355511258448,0.6107776486076262,2.8911140684054644,0.2898235182568031,1.8675696540057467,9.038427660869663,0.6596512501496302,0.7278042327286223,2.613044788533544,0.0795709570393468,1.5821975235822587,6.588734375706124,0.6046791991108178,0.5024840219809037,2.409841210891656,0.9638640170914982,0.530984319143398,6.681481444255494,0.1298255375997768,0.2315052475230345,7.5385694156728,0.0255704140228146,1.1121073002210111,3.639049287218893,0.2627020688020431,0.801876216760425,2.52081029579053,0.6219078855510484,1.6757501199726792,4.543634411345299,0.8084991665065115,1.2012873698491309,8.11856780476936,0.4744696505634506,0.3824981594431362,7.027870036245332,0.8980284677121467,0.49131105464879,5.037223221607506,0.2114064919979409,0.5306452085025739,4.85661104967523,0.1794400267087247,0.7978764261073032,2.193468258738821,0.512774111077859,1.7863985611026452,5.102416913066488,0.8055132569536222,1.737880893718023,8.705579150188619,0.1953586453392057,1.3471287813793504,6.666780239568057,0.284875969917205,1.3393880111352234,7.796950595292506,0.0904721350826899,1.6132952982095787,7.305450600177805,0.2753794515693248,1.3071310056231795,7.682591470472628,0.7029197358626283,0.2609579363011534,5.257948001602233,0.2147241223294876,1.3697214537797748,3.130029627022882,0.9681118619001612,1.0992420211503318,5.1353879609761925,0.053689804655275,0.4611037234989517,9.871404304035822,0.0767432340155664,0.4154510670192035,4.828228289872266,0.9042417017797126,0.2693909304979325,2.3650760935249284,0.3271877619762748],\"yaxis\":\"y\",\"type\":\"scatter\"}],                        {\"template\":{\"data\":{\"histogram2dcontour\":[{\"type\":\"histogram2dcontour\",\"colorbar\":{\"outlinewidth\":0,\"ticks\":\"\"},\"colorscale\":[[0.0,\"#0d0887\"],[0.1111111111111111,\"#46039f\"],[0.2222222222222222,\"#7201a8\"],[0.3333333333333333,\"#9c179e\"],[0.4444444444444444,\"#bd3786\"],[0.5555555555555556,\"#d8576b\"],[0.6666666666666666,\"#ed7953\"],[0.7777777777777778,\"#fb9f3a\"],[0.8888888888888888,\"#fdca26\"],[1.0,\"#f0f921\"]]}],\"choropleth\":[{\"type\":\"choropleth\",\"colorbar\":{\"outlinewidth\":0,\"ticks\":\"\"}}],\"histogram2d\":[{\"type\":\"histogram2d\",\"colorbar\":{\"outlinewidth\":0,\"ticks\":\"\"},\"colorscale\":[[0.0,\"#0d0887\"],[0.1111111111111111,\"#46039f\"],[0.2222222222222222,\"#7201a8\"],[0.3333333333333333,\"#9c179e\"],[0.4444444444444444,\"#bd3786\"],[0.5555555555555556,\"#d8576b\"],[0.6666666666666666,\"#ed7953\"],[0.7777777777777778,\"#fb9f3a\"],[0.8888888888888888,\"#fdca26\"],[1.0,\"#f0f921\"]]}],\"heatmap\":[{\"type\":\"heatmap\",\"colorbar\":{\"outlinewidth\":0,\"ticks\":\"\"},\"colorscale\":[[0.0,\"#0d0887\"],[0.1111111111111111,\"#46039f\"],[0.2222222222222222,\"#7201a8\"],[0.3333333333333333,\"#9c179e\"],[0.4444444444444444,\"#bd3786\"],[0.5555555555555556,\"#d8576b\"],[0.6666666666666666,\"#ed7953\"],[0.7777777777777778,\"#fb9f3a\"],[0.8888888888888888,\"#fdca26\"],[1.0,\"#f0f921\"]]}],\"heatmapgl\":[{\"type\":\"heatmapgl\",\"colorbar\":{\"outlinewidth\":0,\"ticks\":\"\"},\"colorscale\":[[0.0,\"#0d0887\"],[0.1111111111111111,\"#46039f\"],[0.2222222222222222,\"#7201a8\"],[0.3333333333333333,\"#9c179e\"],[0.4444444444444444,\"#bd3786\"],[0.5555555555555556,\"#d8576b\"],[0.6666666666666666,\"#ed7953\"],[0.7777777777777778,\"#fb9f3a\"],[0.8888888888888888,\"#fdca26\"],[1.0,\"#f0f921\"]]}],\"contourcarpet\":[{\"type\":\"contourcarpet\",\"colorbar\":{\"outlinewidth\":0,\"ticks\":\"\"}}],\"contour\":[{\"type\":\"contour\",\"colorbar\":{\"outlinewidth\":0,\"ticks\":\"\"},\"colorscale\":[[0.0,\"#0d0887\"],[0.1111111111111111,\"#46039f\"],[0.2222222222222222,\"#7201a8\"],[0.3333333333333333,\"#9c179e\"],[0.4444444444444444,\"#bd3786\"],[0.5555555555555556,\"#d8576b\"],[0.6666666666666666,\"#ed7953\"],[0.7777777777777778,\"#fb9f3a\"],[0.8888888888888888,\"#fdca26\"],[1.0,\"#f0f921\"]]}],\"surface\":[{\"type\":\"surface\",\"colorbar\":{\"outlinewidth\":0,\"ticks\":\"\"},\"colorscale\":[[0.0,\"#0d0887\"],[0.1111111111111111,\"#46039f\"],[0.2222222222222222,\"#7201a8\"],[0.3333333333333333,\"#9c179e\"],[0.4444444444444444,\"#bd3786\"],[0.5555555555555556,\"#d8576b\"],[0.6666666666666666,\"#ed7953\"],[0.7777777777777778,\"#fb9f3a\"],[0.8888888888888888,\"#fdca26\"],[1.0,\"#f0f921\"]]}],\"mesh3d\":[{\"type\":\"mesh3d\",\"colorbar\":{\"outlinewidth\":0,\"ticks\":\"\"}}],\"scatter\":[{\"fillpattern\":{\"fillmode\":\"overlay\",\"size\":10,\"solidity\":0.2},\"type\":\"scatter\"}],\"parcoords\":[{\"type\":\"parcoords\",\"line\":{\"colorbar\":{\"outlinewidth\":0,\"ticks\":\"\"}}}],\"scatterpolargl\":[{\"type\":\"scatterpolargl\",\"marker\":{\"colorbar\":{\"outlinewidth\":0,\"ticks\":\"\"}}}],\"bar\":[{\"error_x\":{\"color\":\"#2a3f5f\"},\"error_y\":{\"color\":\"#2a3f5f\"},\"marker\":{\"line\":{\"color\":\"#E5ECF6\",\"width\":0.5},\"pattern\":{\"fillmode\":\"overlay\",\"size\":10,\"solidity\":0.2}},\"type\":\"bar\"}],\"scattergeo\":[{\"type\":\"scattergeo\",\"marker\":{\"colorbar\":{\"outlinewidth\":0,\"ticks\":\"\"}}}],\"scatterpolar\":[{\"type\":\"scatterpolar\",\"marker\":{\"colorbar\":{\"outlinewidth\":0,\"ticks\":\"\"}}}],\"histogram\":[{\"marker\":{\"pattern\":{\"fillmode\":\"overlay\",\"size\":10,\"solidity\":0.2}},\"type\":\"histogram\"}],\"scattergl\":[{\"type\":\"scattergl\",\"marker\":{\"colorbar\":{\"outlinewidth\":0,\"ticks\":\"\"}}}],\"scatter3d\":[{\"type\":\"scatter3d\",\"line\":{\"colorbar\":{\"outlinewidth\":0,\"ticks\":\"\"}},\"marker\":{\"colorbar\":{\"outlinewidth\":0,\"ticks\":\"\"}}}],\"scattermapbox\":[{\"type\":\"scattermapbox\",\"marker\":{\"colorbar\":{\"outlinewidth\":0,\"ticks\":\"\"}}}],\"scatterternary\":[{\"type\":\"scatterternary\",\"marker\":{\"colorbar\":{\"outlinewidth\":0,\"ticks\":\"\"}}}],\"scattercarpet\":[{\"type\":\"scattercarpet\",\"marker\":{\"colorbar\":{\"outlinewidth\":0,\"ticks\":\"\"}}}],\"carpet\":[{\"aaxis\":{\"endlinecolor\":\"#2a3f5f\",\"gridcolor\":\"white\",\"linecolor\":\"white\",\"minorgridcolor\":\"white\",\"startlinecolor\":\"#2a3f5f\"},\"baxis\":{\"endlinecolor\":\"#2a3f5f\",\"gridcolor\":\"white\",\"linecolor\":\"white\",\"minorgridcolor\":\"white\",\"startlinecolor\":\"#2a3f5f\"},\"type\":\"carpet\"}],\"table\":[{\"cells\":{\"fill\":{\"color\":\"#EBF0F8\"},\"line\":{\"color\":\"white\"}},\"header\":{\"fill\":{\"color\":\"#C8D4E3\"},\"line\":{\"color\":\"white\"}},\"type\":\"table\"}],\"barpolar\":[{\"marker\":{\"line\":{\"color\":\"#E5ECF6\",\"width\":0.5},\"pattern\":{\"fillmode\":\"overlay\",\"size\":10,\"solidity\":0.2}},\"type\":\"barpolar\"}],\"pie\":[{\"automargin\":true,\"type\":\"pie\"}]},\"layout\":{\"autotypenumbers\":\"strict\",\"colorway\":[\"#636efa\",\"#EF553B\",\"#00cc96\",\"#ab63fa\",\"#FFA15A\",\"#19d3f3\",\"#FF6692\",\"#B6E880\",\"#FF97FF\",\"#FECB52\"],\"font\":{\"color\":\"#2a3f5f\"},\"hovermode\":\"closest\",\"hoverlabel\":{\"align\":\"left\"},\"paper_bgcolor\":\"white\",\"plot_bgcolor\":\"#E5ECF6\",\"polar\":{\"bgcolor\":\"#E5ECF6\",\"angularaxis\":{\"gridcolor\":\"white\",\"linecolor\":\"white\",\"ticks\":\"\"},\"radialaxis\":{\"gridcolor\":\"white\",\"linecolor\":\"white\",\"ticks\":\"\"}},\"ternary\":{\"bgcolor\":\"#E5ECF6\",\"aaxis\":{\"gridcolor\":\"white\",\"linecolor\":\"white\",\"ticks\":\"\"},\"baxis\":{\"gridcolor\":\"white\",\"linecolor\":\"white\",\"ticks\":\"\"},\"caxis\":{\"gridcolor\":\"white\",\"linecolor\":\"white\",\"ticks\":\"\"}},\"coloraxis\":{\"colorbar\":{\"outlinewidth\":0,\"ticks\":\"\"}},\"colorscale\":{\"sequential\":[[0.0,\"#0d0887\"],[0.1111111111111111,\"#46039f\"],[0.2222222222222222,\"#7201a8\"],[0.3333333333333333,\"#9c179e\"],[0.4444444444444444,\"#bd3786\"],[0.5555555555555556,\"#d8576b\"],[0.6666666666666666,\"#ed7953\"],[0.7777777777777778,\"#fb9f3a\"],[0.8888888888888888,\"#fdca26\"],[1.0,\"#f0f921\"]],\"sequentialminus\":[[0.0,\"#0d0887\"],[0.1111111111111111,\"#46039f\"],[0.2222222222222222,\"#7201a8\"],[0.3333333333333333,\"#9c179e\"],[0.4444444444444444,\"#bd3786\"],[0.5555555555555556,\"#d8576b\"],[0.6666666666666666,\"#ed7953\"],[0.7777777777777778,\"#fb9f3a\"],[0.8888888888888888,\"#fdca26\"],[1.0,\"#f0f921\"]],\"diverging\":[[0,\"#8e0152\"],[0.1,\"#c51b7d\"],[0.2,\"#de77ae\"],[0.3,\"#f1b6da\"],[0.4,\"#fde0ef\"],[0.5,\"#f7f7f7\"],[0.6,\"#e6f5d0\"],[0.7,\"#b8e186\"],[0.8,\"#7fbc41\"],[0.9,\"#4d9221\"],[1,\"#276419\"]]},\"xaxis\":{\"gridcolor\":\"white\",\"linecolor\":\"white\",\"ticks\":\"\",\"title\":{\"standoff\":15},\"zerolinecolor\":\"white\",\"automargin\":true,\"zerolinewidth\":2},\"yaxis\":{\"gridcolor\":\"white\",\"linecolor\":\"white\",\"ticks\":\"\",\"title\":{\"standoff\":15},\"zerolinecolor\":\"white\",\"automargin\":true,\"zerolinewidth\":2},\"scene\":{\"xaxis\":{\"backgroundcolor\":\"#E5ECF6\",\"gridcolor\":\"white\",\"linecolor\":\"white\",\"showbackground\":true,\"ticks\":\"\",\"zerolinecolor\":\"white\",\"gridwidth\":2},\"yaxis\":{\"backgroundcolor\":\"#E5ECF6\",\"gridcolor\":\"white\",\"linecolor\":\"white\",\"showbackground\":true,\"ticks\":\"\",\"zerolinecolor\":\"white\",\"gridwidth\":2},\"zaxis\":{\"backgroundcolor\":\"#E5ECF6\",\"gridcolor\":\"white\",\"linecolor\":\"white\",\"showbackground\":true,\"ticks\":\"\",\"zerolinecolor\":\"white\",\"gridwidth\":2}},\"shapedefaults\":{\"line\":{\"color\":\"#2a3f5f\"}},\"annotationdefaults\":{\"arrowcolor\":\"#2a3f5f\",\"arrowhead\":0,\"arrowwidth\":1},\"geo\":{\"bgcolor\":\"white\",\"landcolor\":\"#E5ECF6\",\"subunitcolor\":\"white\",\"showland\":true,\"showlakes\":true,\"lakecolor\":\"white\"},\"title\":{\"x\":0.05},\"mapbox\":{\"style\":\"light\"}}},\"xaxis\":{\"anchor\":\"y\",\"domain\":[0.0,1.0],\"title\":{\"text\":\"Size\"}},\"yaxis\":{\"anchor\":\"x\",\"domain\":[0.0,1.0],\"title\":{\"text\":\"Light\"}},\"legend\":{\"tracegroupgap\":0},\"margin\":{\"t\":60}},                        {\"responsive\": true}                    ).then(function(){\n",
              "                            \n",
              "var gd = document.getElementById('c799ef52-de9e-41b1-9eb2-301058dd1171');\n",
              "var x = new MutationObserver(function (mutations, observer) {{\n",
              "        var display = window.getComputedStyle(gd).display;\n",
              "        if (!display || display === 'none') {{\n",
              "            console.log([gd, 'removed!']);\n",
              "            Plotly.purge(gd);\n",
              "            observer.disconnect();\n",
              "        }}\n",
              "}});\n",
              "\n",
              "// Listen for the removal of the full notebook cells\n",
              "var notebookContainer = gd.closest('#notebook-container');\n",
              "if (notebookContainer) {{\n",
              "    x.observe(notebookContainer, {childList: true});\n",
              "}}\n",
              "\n",
              "// Listen for the clearing of the current output cell\n",
              "var outputEl = gd.closest('.output');\n",
              "if (outputEl) {{\n",
              "    x.observe(outputEl, {childList: true});\n",
              "}}\n",
              "\n",
              "                        })                };                            </script>        </div>\n",
              "</body>\n",
              "</html>"
            ]
          },
          "metadata": {}
        }
      ]
    },
    {
      "cell_type": "code",
      "source": [
        "from sklearn.cluster import KMeans\n",
        "\n",
        "X = df.iloc[:, [0,1]].values\n",
        "\n",
        "print(X)\n",
        "\n",
        "wcss = []\n",
        "for i in range(1,11):\n",
        "    kmeans = KMeans(n_clusters = i, init='k-means++', random_state = 42)\n",
        "    kmeans.fit(X)\n",
        "    wcss.append(kmeans.interia_)"
      ],
      "metadata": {
        "colab": {
          "base_uri": "https://localhost:8080/",
          "height": 1000
        },
        "id": "ggRtiTPp2Rpe",
        "outputId": "798ce612-d78e-49d7-d676-414d47cdd202"
      },
      "execution_count": 11,
      "outputs": [
        {
          "output_type": "stream",
          "name": "stdout",
          "text": [
            "[[ 5.88267711  1.32541075]\n",
            " [10.91282974  3.18321731]\n",
            " [ 0.28118987  0.62001076]\n",
            " [ 7.68262274  1.80457756]\n",
            " [11.03407102  3.39044009]\n",
            " [ 0.84988347  0.82656157]\n",
            " [ 6.47346749  0.99997187]\n",
            " [12.17993641  4.37695642]\n",
            " [ 0.18253329  0.24372793]\n",
            " [ 7.56820956  1.31053068]\n",
            " [12.69679005  2.03584376]\n",
            " [ 0.02770377  0.64390611]\n",
            " [ 5.20021714  1.90392855]\n",
            " [14.84844867  9.20677086]\n",
            " [ 0.25906822  0.78305536]\n",
            " [ 6.1243438   1.1005551 ]\n",
            " [10.06301215  6.8423572 ]\n",
            " [ 0.50675639  0.74370214]\n",
            " [ 6.28221831  0.16934718]\n",
            " [14.025183    7.43555359]\n",
            " [ 0.05434116  0.19156329]\n",
            " [ 6.27626654  0.33758452]\n",
            " [10.31157448  9.41636235]\n",
            " [ 0.99958727  0.29189379]\n",
            " [ 5.22916552  0.02493252]\n",
            " [12.77452289  3.35990116]\n",
            " [ 0.99287173  0.27721941]\n",
            " [ 6.78203126  0.23741951]\n",
            " [12.73355738  4.98628931]\n",
            " [ 0.14092131  0.44453679]\n",
            " [ 5.08774426  0.3371882 ]\n",
            " [14.78157283  3.02636823]\n",
            " [ 0.20758125  0.40063895]\n",
            " [ 5.77421644  1.01817787]\n",
            " [14.42188085  5.06561331]\n",
            " [ 0.61217792  0.754544  ]\n",
            " [ 7.84657616  0.81794734]\n",
            " [13.65219273  4.19624819]\n",
            " [ 0.08825084  0.31075267]\n",
            " [ 7.49927838  1.56564519]\n",
            " [12.25352755  5.54871022]\n",
            " [ 0.76477052  0.81949634]\n",
            " [ 5.92656906  0.12175672]\n",
            " [10.36791607  7.8138002 ]\n",
            " [ 0.73400232  0.31246217]\n",
            " [ 7.16285992  1.52945346]\n",
            " [10.43532046  6.11351538]\n",
            " [ 0.96705628  0.31869179]\n",
            " [ 5.12900849  0.4811628 ]\n",
            " [13.8136036   3.41451021]\n",
            " [ 0.09209505  0.39838606]\n",
            " [ 6.33830104  1.02327544]\n",
            " [14.69961833  9.60695369]\n",
            " [ 0.36286045  0.61356261]\n",
            " [ 6.54058393  1.02287401]\n",
            " [11.93084327  3.98436705]\n",
            " [ 0.59630629  0.91324978]\n",
            " [ 5.16694051  0.32026182]\n",
            " [10.17462233  5.46277637]\n",
            " [ 0.54806461  0.22554109]\n",
            " [ 6.0453949   0.06579754]\n",
            " [12.41717488  9.54880733]\n",
            " [ 0.92917531  0.69118449]\n",
            " [ 6.10573782  0.07442735]\n",
            " [11.25596628  2.77623642]\n",
            " [ 0.28584854  0.82205126]\n",
            " [ 7.84189007  1.5421511 ]\n",
            " [13.86495527  4.84719239]\n",
            " [ 0.28852255  0.54773555]\n",
            " [ 5.56634347  0.61077765]\n",
            " [10.41513274  2.89111407]\n",
            " [ 0.55888561  0.28982352]\n",
            " [ 6.99333606  1.86756965]\n",
            " [12.33459525  9.03842766]\n",
            " [ 0.08473752  0.65965125]\n",
            " [ 5.54723387  0.72780423]\n",
            " [10.95742039  2.61304479]\n",
            " [ 0.55597026  0.07957096]\n",
            " [ 5.45496047  1.58219752]\n",
            " [14.80059831  6.58873438]\n",
            " [ 0.96509455  0.6046792 ]\n",
            " [ 7.36143453  0.50248402]\n",
            " [14.19998411  2.40984121]\n",
            " [ 0.44104321  0.96386402]\n",
            " [ 7.58922802  0.53098432]\n",
            " [12.99075875  6.68148144]\n",
            " [ 0.88832918  0.12982554]\n",
            " [ 6.56847488  0.23150525]\n",
            " [10.62747539  7.53856942]\n",
            " [ 0.38108023  0.02557041]\n",
            " [ 6.36006234  1.1121073 ]\n",
            " [14.67512542  3.63904929]\n",
            " [ 0.01782653  0.26270207]\n",
            " [ 5.1320427   0.80187622]\n",
            " [10.36283742  2.5208103 ]\n",
            " [ 0.78585969  0.62190789]\n",
            " [ 6.69710295  1.67575012]\n",
            " [11.07435792  4.54363441]\n",
            " [ 0.82113253  0.80849917]\n",
            " [ 5.5950772   1.20128737]\n",
            " [13.70702219  8.1185678 ]\n",
            " [ 0.81932252  0.47446965]\n",
            " [ 6.66337044  0.38249816]\n",
            " [13.87876794  7.02787004]\n",
            " [ 0.96012518  0.89802847]\n",
            " [ 6.58818443  0.49131105]\n",
            " [11.74775067  5.03722322]\n",
            " [ 0.57721284  0.21140649]\n",
            " [ 5.72878725  0.53064521]\n",
            " [10.09601401  4.85661105]\n",
            " [ 0.37150786  0.17944003]\n",
            " [ 6.22268717  0.79787643]\n",
            " [10.34985996  2.19346826]\n",
            " [ 0.37205289  0.51277411]\n",
            " [ 5.97102061  1.78639856]\n",
            " [13.71306228  5.10241691]\n",
            " [ 0.91491509  0.80551326]\n",
            " [ 7.08212302  1.73788089]\n",
            " [13.63453694  8.70557915]\n",
            " [ 0.98589062  0.19535865]\n",
            " [ 7.0350055   1.34712878]\n",
            " [11.11548923  6.66678024]\n",
            " [ 0.42082494  0.28487597]\n",
            " [ 7.70836715  1.33938801]\n",
            " [12.89790103  7.7969506 ]\n",
            " [ 0.43356133  0.09047214]\n",
            " [ 7.24926114  1.6132953 ]\n",
            " [12.06515775  7.3054506 ]\n",
            " [ 0.83984661  0.27537945]\n",
            " [ 5.13987656  1.30713101]\n",
            " [10.18640538  7.68259147]\n",
            " [ 0.16775971  0.70291974]\n",
            " [ 7.19086206  0.26095794]\n",
            " [10.75558477  5.257948  ]\n",
            " [ 0.81546503  0.21472412]\n",
            " [ 7.9806815   1.36972145]\n",
            " [11.43102579  3.13002963]\n",
            " [ 0.1336847   0.96811186]\n",
            " [ 7.28023635  1.09924202]\n",
            " [12.93422357  5.13538796]\n",
            " [ 0.28360174  0.0536898 ]\n",
            " [ 5.79399853  0.46110372]\n",
            " [10.06468765  9.8714043 ]\n",
            " [ 0.55812928  0.07674323]\n",
            " [ 7.74230771  0.41545107]\n",
            " [11.21516506  4.82822829]\n",
            " [ 0.08155477  0.9042417 ]\n",
            " [ 6.87942066  0.26939093]\n",
            " [12.93950316  2.36507609]\n",
            " [ 0.5804063   0.32718776]]\n"
          ]
        },
        {
          "output_type": "stream",
          "name": "stderr",
          "text": [
            "/usr/local/lib/python3.9/dist-packages/sklearn/cluster/_kmeans.py:870: FutureWarning:\n",
            "\n",
            "The default value of `n_init` will change from 10 to 'auto' in 1.4. Set the value of `n_init` explicitly to suppress the warning\n",
            "\n"
          ]
        },
        {
          "output_type": "error",
          "ename": "AttributeError",
          "evalue": "ignored",
          "traceback": [
            "\u001b[0;31m---------------------------------------------------------------------------\u001b[0m",
            "\u001b[0;31mAttributeError\u001b[0m                            Traceback (most recent call last)",
            "\u001b[0;32m<ipython-input-11-066ffcfc4a72>\u001b[0m in \u001b[0;36m<cell line: 8>\u001b[0;34m()\u001b[0m\n\u001b[1;32m      9\u001b[0m     \u001b[0mkmeans\u001b[0m \u001b[0;34m=\u001b[0m \u001b[0mKMeans\u001b[0m\u001b[0;34m(\u001b[0m\u001b[0mn_clusters\u001b[0m \u001b[0;34m=\u001b[0m \u001b[0mi\u001b[0m\u001b[0;34m,\u001b[0m \u001b[0minit\u001b[0m\u001b[0;34m=\u001b[0m\u001b[0;34m'k-means++'\u001b[0m\u001b[0;34m,\u001b[0m \u001b[0mrandom_state\u001b[0m \u001b[0;34m=\u001b[0m \u001b[0;36m42\u001b[0m\u001b[0;34m)\u001b[0m\u001b[0;34m\u001b[0m\u001b[0;34m\u001b[0m\u001b[0m\n\u001b[1;32m     10\u001b[0m     \u001b[0mkmeans\u001b[0m\u001b[0;34m.\u001b[0m\u001b[0mfit\u001b[0m\u001b[0;34m(\u001b[0m\u001b[0mX\u001b[0m\u001b[0;34m)\u001b[0m\u001b[0;34m\u001b[0m\u001b[0;34m\u001b[0m\u001b[0m\n\u001b[0;32m---> 11\u001b[0;31m     \u001b[0mwcss\u001b[0m\u001b[0;34m.\u001b[0m\u001b[0mappend\u001b[0m\u001b[0;34m(\u001b[0m\u001b[0mkmeans\u001b[0m\u001b[0;34m.\u001b[0m\u001b[0minteria_\u001b[0m\u001b[0;34m)\u001b[0m\u001b[0;34m\u001b[0m\u001b[0;34m\u001b[0m\u001b[0m\n\u001b[0m",
            "\u001b[0;31mAttributeError\u001b[0m: 'KMeans' object has no attribute 'interia_'"
          ]
        }
      ]
    },
    {
      "cell_type": "code",
      "source": [
        "import matplotlib.pyplot as plt\n",
        "import seaborn as sns\n",
        "\n",
        "plt.figure(figsize=(10,5))\n",
        "sns.lineplot(range(1,11), wcss, marker='o',color='red')\n",
        "plt.title('Anything')\n",
        "plt.xlabel('Number of Clusters')\n",
        "plt.ylabel('WCSS')\n",
        "plt.show()"
      ],
      "metadata": {
        "colab": {
          "base_uri": "https://localhost:8080/",
          "height": 253
        },
        "id": "KnaMUybQ8JZp",
        "outputId": "f2ef0c81-fdcb-494f-eab3-4e24b4cec650"
      },
      "execution_count": 18,
      "outputs": [
        {
          "output_type": "error",
          "ename": "TypeError",
          "evalue": "ignored",
          "traceback": [
            "\u001b[0;31m---------------------------------------------------------------------------\u001b[0m",
            "\u001b[0;31mTypeError\u001b[0m                                 Traceback (most recent call last)",
            "\u001b[0;32m<ipython-input-18-30e662508519>\u001b[0m in \u001b[0;36m<cell line: 5>\u001b[0;34m()\u001b[0m\n\u001b[1;32m      3\u001b[0m \u001b[0;34m\u001b[0m\u001b[0m\n\u001b[1;32m      4\u001b[0m \u001b[0mplt\u001b[0m\u001b[0;34m.\u001b[0m\u001b[0mfigure\u001b[0m\u001b[0;34m(\u001b[0m\u001b[0mfigsize\u001b[0m\u001b[0;34m=\u001b[0m\u001b[0;34m(\u001b[0m\u001b[0;36m10\u001b[0m\u001b[0;34m,\u001b[0m\u001b[0;36m5\u001b[0m\u001b[0;34m)\u001b[0m\u001b[0;34m)\u001b[0m\u001b[0;34m\u001b[0m\u001b[0;34m\u001b[0m\u001b[0m\n\u001b[0;32m----> 5\u001b[0;31m \u001b[0msns\u001b[0m\u001b[0;34m.\u001b[0m\u001b[0mlineplot\u001b[0m\u001b[0;34m(\u001b[0m\u001b[0mrange\u001b[0m\u001b[0;34m(\u001b[0m\u001b[0;36m1\u001b[0m\u001b[0;34m,\u001b[0m\u001b[0;36m11\u001b[0m\u001b[0;34m)\u001b[0m\u001b[0;34m,\u001b[0m \u001b[0mwcss\u001b[0m\u001b[0;34m,\u001b[0m \u001b[0mmarker\u001b[0m\u001b[0;34m=\u001b[0m\u001b[0;34m'o'\u001b[0m\u001b[0;34m,\u001b[0m\u001b[0mcolor\u001b[0m\u001b[0;34m=\u001b[0m\u001b[0;34m'red'\u001b[0m\u001b[0;34m)\u001b[0m\u001b[0;34m\u001b[0m\u001b[0;34m\u001b[0m\u001b[0m\n\u001b[0m\u001b[1;32m      6\u001b[0m \u001b[0mplt\u001b[0m\u001b[0;34m.\u001b[0m\u001b[0mtitle\u001b[0m\u001b[0;34m(\u001b[0m\u001b[0;34m'Anything'\u001b[0m\u001b[0;34m)\u001b[0m\u001b[0;34m\u001b[0m\u001b[0;34m\u001b[0m\u001b[0m\n\u001b[1;32m      7\u001b[0m \u001b[0mplt\u001b[0m\u001b[0;34m.\u001b[0m\u001b[0mxlabel\u001b[0m\u001b[0;34m(\u001b[0m\u001b[0;34m'Number of Clusters'\u001b[0m\u001b[0;34m)\u001b[0m\u001b[0;34m\u001b[0m\u001b[0;34m\u001b[0m\u001b[0m\n",
            "\u001b[0;31mTypeError\u001b[0m: lineplot() takes from 0 to 1 positional arguments but 2 were given"
          ]
        },
        {
          "output_type": "display_data",
          "data": {
            "text/plain": [
              "<Figure size 1000x500 with 0 Axes>"
            ]
          },
          "metadata": {}
        }
      ]
    },
    {
      "cell_type": "code",
      "source": [
        "kmeans = KMeans(n_clusters = 3, init='k-means++', random_state = 42)\n",
        "y_kmeans = kmeans.fit_predict(X)"
      ],
      "metadata": {
        "colab": {
          "base_uri": "https://localhost:8080/"
        },
        "id": "EYmtdyel-oSK",
        "outputId": "8a76de40-e6be-4383-8a21-3a6499a56c3e"
      },
      "execution_count": 19,
      "outputs": [
        {
          "output_type": "stream",
          "name": "stderr",
          "text": [
            "/usr/local/lib/python3.9/dist-packages/sklearn/cluster/_kmeans.py:870: FutureWarning:\n",
            "\n",
            "The default value of `n_init` will change from 10 to 'auto' in 1.4. Set the value of `n_init` explicitly to suppress the warning\n",
            "\n"
          ]
        }
      ]
    },
    {
      "cell_type": "code",
      "source": [
        "plt.figure(figsize=(10,10))\n",
        "sns.scatterplot(X[y_kmeans == 0,0],X[y_kmeans == 0,1], colour = 'red', label = 'Cluster #1')\n",
        "sns.scatterplot(X[y_kmeans == 1,0],X[y_kmeans == 1,1], colour = 'lime', label = 'Cluster #2')\n",
        "sns.scatterplot(X[y_kmeans == 2,0],X[y_kmeans == 2,1], colour = 'blue', label = 'Cluster #3')\n",
        "sns.scatterplot(kmeans.clusters_clusters_[:,0],kmeans.clusters_clusters_[:,1], colour = 'black', label = 'Centroids', s=50)\n",
        "plt.grid(False)\n",
        "plt.title('Anything')\n",
        "plt.xlabel('Size')\n",
        "plt.ylabel('Light')\n",
        "plt.legend()\n",
        "plt.show()"
      ],
      "metadata": {
        "colab": {
          "base_uri": "https://localhost:8080/",
          "height": 253
        },
        "id": "g1ieB-JQ-4hG",
        "outputId": "346b34ea-235f-45db-945c-ba2a65c6565a"
      },
      "execution_count": 25,
      "outputs": [
        {
          "output_type": "error",
          "ename": "TypeError",
          "evalue": "ignored",
          "traceback": [
            "\u001b[0;31m---------------------------------------------------------------------------\u001b[0m",
            "\u001b[0;31mTypeError\u001b[0m                                 Traceback (most recent call last)",
            "\u001b[0;32m<ipython-input-25-d03f153a543a>\u001b[0m in \u001b[0;36m<cell line: 2>\u001b[0;34m()\u001b[0m\n\u001b[1;32m      1\u001b[0m \u001b[0mplt\u001b[0m\u001b[0;34m.\u001b[0m\u001b[0mfigure\u001b[0m\u001b[0;34m(\u001b[0m\u001b[0mfigsize\u001b[0m\u001b[0;34m=\u001b[0m\u001b[0;34m(\u001b[0m\u001b[0;36m10\u001b[0m\u001b[0;34m,\u001b[0m\u001b[0;36m10\u001b[0m\u001b[0;34m)\u001b[0m\u001b[0;34m)\u001b[0m\u001b[0;34m\u001b[0m\u001b[0;34m\u001b[0m\u001b[0m\n\u001b[0;32m----> 2\u001b[0;31m \u001b[0msns\u001b[0m\u001b[0;34m.\u001b[0m\u001b[0mscatterplot\u001b[0m\u001b[0;34m(\u001b[0m\u001b[0mX\u001b[0m\u001b[0;34m[\u001b[0m\u001b[0my_kmeans\u001b[0m \u001b[0;34m==\u001b[0m \u001b[0;36m0\u001b[0m\u001b[0;34m,\u001b[0m\u001b[0;36m0\u001b[0m\u001b[0;34m]\u001b[0m\u001b[0;34m,\u001b[0m\u001b[0mX\u001b[0m\u001b[0;34m[\u001b[0m\u001b[0my_kmeans\u001b[0m \u001b[0;34m==\u001b[0m \u001b[0;36m0\u001b[0m\u001b[0;34m,\u001b[0m\u001b[0;36m1\u001b[0m\u001b[0;34m]\u001b[0m\u001b[0;34m,\u001b[0m \u001b[0mcolour\u001b[0m \u001b[0;34m=\u001b[0m \u001b[0;34m'red'\u001b[0m\u001b[0;34m,\u001b[0m \u001b[0mlabel\u001b[0m \u001b[0;34m=\u001b[0m \u001b[0;34m'Cluster #1'\u001b[0m\u001b[0;34m)\u001b[0m\u001b[0;34m\u001b[0m\u001b[0;34m\u001b[0m\u001b[0m\n\u001b[0m\u001b[1;32m      3\u001b[0m \u001b[0msns\u001b[0m\u001b[0;34m.\u001b[0m\u001b[0mscatterplot\u001b[0m\u001b[0;34m(\u001b[0m\u001b[0mX\u001b[0m\u001b[0;34m[\u001b[0m\u001b[0my_kmeans\u001b[0m \u001b[0;34m==\u001b[0m \u001b[0;36m1\u001b[0m\u001b[0;34m,\u001b[0m\u001b[0;36m0\u001b[0m\u001b[0;34m]\u001b[0m\u001b[0;34m,\u001b[0m\u001b[0mX\u001b[0m\u001b[0;34m[\u001b[0m\u001b[0my_kmeans\u001b[0m \u001b[0;34m==\u001b[0m \u001b[0;36m1\u001b[0m\u001b[0;34m,\u001b[0m\u001b[0;36m1\u001b[0m\u001b[0;34m]\u001b[0m\u001b[0;34m,\u001b[0m \u001b[0mcolour\u001b[0m \u001b[0;34m=\u001b[0m \u001b[0;34m'lime'\u001b[0m\u001b[0;34m,\u001b[0m \u001b[0mlabel\u001b[0m \u001b[0;34m=\u001b[0m \u001b[0;34m'Cluster #2'\u001b[0m\u001b[0;34m)\u001b[0m\u001b[0;34m\u001b[0m\u001b[0;34m\u001b[0m\u001b[0m\n\u001b[1;32m      4\u001b[0m \u001b[0msns\u001b[0m\u001b[0;34m.\u001b[0m\u001b[0mscatterplot\u001b[0m\u001b[0;34m(\u001b[0m\u001b[0mX\u001b[0m\u001b[0;34m[\u001b[0m\u001b[0my_kmeans\u001b[0m \u001b[0;34m==\u001b[0m \u001b[0;36m2\u001b[0m\u001b[0;34m,\u001b[0m\u001b[0;36m0\u001b[0m\u001b[0;34m]\u001b[0m\u001b[0;34m,\u001b[0m\u001b[0mX\u001b[0m\u001b[0;34m[\u001b[0m\u001b[0my_kmeans\u001b[0m \u001b[0;34m==\u001b[0m \u001b[0;36m2\u001b[0m\u001b[0;34m,\u001b[0m\u001b[0;36m1\u001b[0m\u001b[0;34m]\u001b[0m\u001b[0;34m,\u001b[0m \u001b[0mcolour\u001b[0m \u001b[0;34m=\u001b[0m \u001b[0;34m'blue'\u001b[0m\u001b[0;34m,\u001b[0m \u001b[0mlabel\u001b[0m \u001b[0;34m=\u001b[0m \u001b[0;34m'Cluster #3'\u001b[0m\u001b[0;34m)\u001b[0m\u001b[0;34m\u001b[0m\u001b[0;34m\u001b[0m\u001b[0m\n\u001b[1;32m      5\u001b[0m \u001b[0msns\u001b[0m\u001b[0;34m.\u001b[0m\u001b[0mscatterplot\u001b[0m\u001b[0;34m(\u001b[0m\u001b[0mkmeans\u001b[0m\u001b[0;34m.\u001b[0m\u001b[0mclusters_clusters_\u001b[0m\u001b[0;34m[\u001b[0m\u001b[0;34m:\u001b[0m\u001b[0;34m,\u001b[0m\u001b[0;36m0\u001b[0m\u001b[0;34m]\u001b[0m\u001b[0;34m,\u001b[0m\u001b[0mkmeans\u001b[0m\u001b[0;34m.\u001b[0m\u001b[0mclusters_clusters_\u001b[0m\u001b[0;34m[\u001b[0m\u001b[0;34m:\u001b[0m\u001b[0;34m,\u001b[0m\u001b[0;36m1\u001b[0m\u001b[0;34m]\u001b[0m\u001b[0;34m,\u001b[0m \u001b[0mcolour\u001b[0m \u001b[0;34m=\u001b[0m \u001b[0;34m'black'\u001b[0m\u001b[0;34m,\u001b[0m \u001b[0mlabel\u001b[0m \u001b[0;34m=\u001b[0m \u001b[0;34m'Centroids'\u001b[0m\u001b[0;34m,\u001b[0m \u001b[0ms\u001b[0m\u001b[0;34m=\u001b[0m\u001b[0;36m50\u001b[0m\u001b[0;34m)\u001b[0m\u001b[0;34m\u001b[0m\u001b[0;34m\u001b[0m\u001b[0m\n",
            "\u001b[0;31mTypeError\u001b[0m: scatterplot() takes from 0 to 1 positional arguments but 2 were given"
          ]
        },
        {
          "output_type": "display_data",
          "data": {
            "text/plain": [
              "<Figure size 1000x1000 with 0 Axes>"
            ]
          },
          "metadata": {}
        }
      ]
    }
  ]
}